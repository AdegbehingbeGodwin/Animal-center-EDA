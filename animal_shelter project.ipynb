{
 "cells": [
  {
   "cell_type": "markdown",
   "metadata": {},
   "source": [
    "# Importing Libraries"
   ]
  },
  {
   "cell_type": "code",
   "execution_count": 1,
   "metadata": {},
   "outputs": [],
   "source": [
    "import pandas as pd\n",
    "import matplotlib.pyplot as plt\n",
    "import seaborn as sns\n",
    "import numpy as np\n",
    "import datetime"
   ]
  },
  {
   "cell_type": "markdown",
   "metadata": {},
   "source": [
    "# Reading,Exploring & Cleaning of Files\n"
   ]
  },
  {
   "cell_type": "code",
   "execution_count": 2,
   "metadata": {},
   "outputs": [],
   "source": [
    "#import os\n",
    "#print(os.getcwd())\n",
    "#print(os.listdir(os.getcwd())"
   ]
  },
  {
   "cell_type": "code",
   "execution_count": 3,
   "metadata": {
    "scrolled": false
   },
   "outputs": [],
   "source": [
    "Intakes = pd.read_csv(\"C:\\\\Users\\\\HP PROBOOK 640\\\\Austin_Animal_Center_Intakes.csv\")\n",
    "Outcomes =pd.read_csv(\"C:\\\\Users\\\\HP PROBOOK 640\\\\Austin_Animal_Center_Outcomes.csv\")\n",
    "Stray_Map=pd.read_csv(\"C:\\\\Users\\\\HP PROBOOK 640\\\\Austin_Animal_Center_Stray_Map.csv\")"
   ]
  },
  {
   "cell_type": "code",
   "execution_count": 4,
   "metadata": {},
   "outputs": [
    {
     "name": "stdout",
     "output_type": "stream",
     "text": [
      "intakes contains 124120  rows and 12 columns \n",
      "outcomes contains 124120 rows and 12 columns \n",
      "stray_map contains 124120 rows and 12 columns "
     ]
    }
   ],
   "source": [
    "intakes =pd.DataFrame(Intakes)\n",
    "rows=len(intakes.axes[0])\n",
    "cols=len(intakes.axes[1])\n",
    "print(\"intakes contains \" + str(rows) +  \"  rows and \"+ str(cols) +  \" columns \", end=\"\\n\")\n",
    "\n",
    "\n",
    "outcomes =pd.DataFrame(Outcomes)\n",
    "rows=len(intakes.axes[0])\n",
    "cols=len(intakes.axes[1])\n",
    "print(\"outcomes contains \" + str(rows)+\" rows and \" + str(cols)  + \" columns \" , end=\"\\n\")\n",
    "\n",
    "stray_map =pd.DataFrame(Stray_Map)\n",
    "rows=len(intakes.axes[0])\n",
    "cols=len(intakes.axes[1])\n",
    "print(\"stray_map contains\" ,end=\" \" + str(rows)+\" rows and \"+ str(cols) +  \" columns \")"
   ]
  },
  {
   "cell_type": "code",
   "execution_count": 5,
   "metadata": {
    "scrolled": false
   },
   "outputs": [
    {
     "data": {
      "text/html": [
       "<div>\n",
       "<style scoped>\n",
       "    .dataframe tbody tr th:only-of-type {\n",
       "        vertical-align: middle;\n",
       "    }\n",
       "\n",
       "    .dataframe tbody tr th {\n",
       "        vertical-align: top;\n",
       "    }\n",
       "\n",
       "    .dataframe thead th {\n",
       "        text-align: right;\n",
       "    }\n",
       "</style>\n",
       "<table border=\"1\" class=\"dataframe\">\n",
       "  <thead>\n",
       "    <tr style=\"text-align: right;\">\n",
       "      <th></th>\n",
       "      <th>Animal ID</th>\n",
       "      <th>Name</th>\n",
       "      <th>DateTime</th>\n",
       "      <th>MonthYear</th>\n",
       "      <th>Date of Birth</th>\n",
       "      <th>Outcome Type</th>\n",
       "      <th>Outcome Subtype</th>\n",
       "      <th>Animal Type</th>\n",
       "      <th>Sex upon Outcome</th>\n",
       "      <th>Age upon Outcome</th>\n",
       "      <th>Breed</th>\n",
       "      <th>Color</th>\n",
       "    </tr>\n",
       "  </thead>\n",
       "  <tbody>\n",
       "    <tr>\n",
       "      <th>count</th>\n",
       "      <td>124491</td>\n",
       "      <td>85466</td>\n",
       "      <td>124491</td>\n",
       "      <td>124491</td>\n",
       "      <td>124491</td>\n",
       "      <td>124471</td>\n",
       "      <td>57308</td>\n",
       "      <td>124491</td>\n",
       "      <td>124490</td>\n",
       "      <td>124486</td>\n",
       "      <td>124491</td>\n",
       "      <td>124491</td>\n",
       "    </tr>\n",
       "    <tr>\n",
       "      <th>unique</th>\n",
       "      <td>111309</td>\n",
       "      <td>19781</td>\n",
       "      <td>102921</td>\n",
       "      <td>102921</td>\n",
       "      <td>7100</td>\n",
       "      <td>9</td>\n",
       "      <td>23</td>\n",
       "      <td>5</td>\n",
       "      <td>5</td>\n",
       "      <td>52</td>\n",
       "      <td>2633</td>\n",
       "      <td>598</td>\n",
       "    </tr>\n",
       "    <tr>\n",
       "      <th>top</th>\n",
       "      <td>A721033</td>\n",
       "      <td>Max</td>\n",
       "      <td>04/18/2016 12:00:00 AM</td>\n",
       "      <td>04/18/2016 12:00:00 AM</td>\n",
       "      <td>04/21/2014</td>\n",
       "      <td>Adoption</td>\n",
       "      <td>Partner</td>\n",
       "      <td>Dog</td>\n",
       "      <td>Neutered Male</td>\n",
       "      <td>1 year</td>\n",
       "      <td>Domestic Shorthair Mix</td>\n",
       "      <td>Black/White</td>\n",
       "    </tr>\n",
       "    <tr>\n",
       "      <th>freq</th>\n",
       "      <td>33</td>\n",
       "      <td>561</td>\n",
       "      <td>39</td>\n",
       "      <td>39</td>\n",
       "      <td>117</td>\n",
       "      <td>55347</td>\n",
       "      <td>30811</td>\n",
       "      <td>70516</td>\n",
       "      <td>43794</td>\n",
       "      <td>22130</td>\n",
       "      <td>31331</td>\n",
       "      <td>13070</td>\n",
       "    </tr>\n",
       "  </tbody>\n",
       "</table>\n",
       "</div>"
      ],
      "text/plain": [
       "       Animal ID   Name                DateTime               MonthYear  \\\n",
       "count     124491  85466                  124491                  124491   \n",
       "unique    111309  19781                  102921                  102921   \n",
       "top      A721033    Max  04/18/2016 12:00:00 AM  04/18/2016 12:00:00 AM   \n",
       "freq          33    561                      39                      39   \n",
       "\n",
       "       Date of Birth Outcome Type Outcome Subtype Animal Type  \\\n",
       "count         124491       124471           57308      124491   \n",
       "unique          7100            9              23           5   \n",
       "top       04/21/2014     Adoption         Partner         Dog   \n",
       "freq             117        55347           30811       70516   \n",
       "\n",
       "       Sex upon Outcome Age upon Outcome                   Breed        Color  \n",
       "count            124490           124486                  124491       124491  \n",
       "unique                5               52                    2633          598  \n",
       "top       Neutered Male           1 year  Domestic Shorthair Mix  Black/White  \n",
       "freq              43794            22130                   31331        13070  "
      ]
     },
     "execution_count": 5,
     "metadata": {},
     "output_type": "execute_result"
    }
   ],
   "source": [
    "#Intakes.head()\n",
    "#Intakes.info()\n",
    "#Intakes.describe()\n",
    "Outcomes.head()\n",
    "Outcomes.describe()"
   ]
  },
  {
   "cell_type": "code",
   "execution_count": 6,
   "metadata": {},
   "outputs": [
    {
     "data": {
      "text/plain": [
       "<matplotlib.axes._subplots.AxesSubplot at 0x225930c1c10>"
      ]
     },
     "execution_count": 6,
     "metadata": {},
     "output_type": "execute_result"
    },
    {
     "data": {
      "image/png": "[encoded data removed]",
      "text/plain": [
       "<Figure size 864x576 with 1 Axes>"
      ]
     },
     "metadata": {
      "needs_background": "light"
     },
     "output_type": "display_data"
    }
   ],
   "source": [
    "fig_size=(12, 8)\n",
    "Intakes['Intake Condition'].value_counts()\n",
    "Intakes['Intake Condition'].value_counts().plot.bar(figsize = fig_size)"
   ]
  },
  {
   "cell_type": "code",
   "execution_count": 7,
   "metadata": {},
   "outputs": [
    {
     "data": {
      "text/html": [
       "<div>\n",
       "<style scoped>\n",
       "    .dataframe tbody tr th:only-of-type {\n",
       "        vertical-align: middle;\n",
       "    }\n",
       "\n",
       "    .dataframe tbody tr th {\n",
       "        vertical-align: top;\n",
       "    }\n",
       "\n",
       "    .dataframe thead th {\n",
       "        text-align: right;\n",
       "    }\n",
       "</style>\n",
       "<table border=\"1\" class=\"dataframe\">\n",
       "  <thead>\n",
       "    <tr style=\"text-align: right;\">\n",
       "      <th></th>\n",
       "      <th>Animal ID</th>\n",
       "      <th>Name</th>\n",
       "      <th>DateTime</th>\n",
       "      <th>MonthYear</th>\n",
       "      <th>Date of Birth</th>\n",
       "      <th>Outcome Type</th>\n",
       "      <th>Outcome Subtype</th>\n",
       "      <th>Animal Type</th>\n",
       "      <th>Sex upon Outcome</th>\n",
       "      <th>Age upon Outcome</th>\n",
       "      <th>Breed</th>\n",
       "      <th>Color</th>\n",
       "    </tr>\n",
       "  </thead>\n",
       "  <tbody>\n",
       "    <tr>\n",
       "      <th>0</th>\n",
       "      <td>A794011</td>\n",
       "      <td>Chunk</td>\n",
       "      <td>05/08/2019 06:20:00 PM</td>\n",
       "      <td>05/08/2019 06:20:00 PM</td>\n",
       "      <td>05/02/2017</td>\n",
       "      <td>Rto-Adopt</td>\n",
       "      <td>NaN</td>\n",
       "      <td>Cat</td>\n",
       "      <td>Neutered Male</td>\n",
       "      <td>2 years</td>\n",
       "      <td>Domestic Shorthair Mix</td>\n",
       "      <td>Brown Tabby/White</td>\n",
       "    </tr>\n",
       "    <tr>\n",
       "      <th>1</th>\n",
       "      <td>A776359</td>\n",
       "      <td>Gizmo</td>\n",
       "      <td>07/18/2018 04:02:00 PM</td>\n",
       "      <td>07/18/2018 04:02:00 PM</td>\n",
       "      <td>07/12/2017</td>\n",
       "      <td>Adoption</td>\n",
       "      <td>NaN</td>\n",
       "      <td>Dog</td>\n",
       "      <td>Neutered Male</td>\n",
       "      <td>1 year</td>\n",
       "      <td>Chihuahua Shorthair Mix</td>\n",
       "      <td>White/Brown</td>\n",
       "    </tr>\n",
       "    <tr>\n",
       "      <th>2</th>\n",
       "      <td>A821648</td>\n",
       "      <td>NaN</td>\n",
       "      <td>08/16/2020 11:38:00 AM</td>\n",
       "      <td>08/16/2020 11:38:00 AM</td>\n",
       "      <td>08/16/2019</td>\n",
       "      <td>Euthanasia</td>\n",
       "      <td>NaN</td>\n",
       "      <td>Other</td>\n",
       "      <td>Unknown</td>\n",
       "      <td>1 year</td>\n",
       "      <td>Raccoon</td>\n",
       "      <td>Gray</td>\n",
       "    </tr>\n",
       "    <tr>\n",
       "      <th>3</th>\n",
       "      <td>A720371</td>\n",
       "      <td>Moose</td>\n",
       "      <td>02/13/2016 05:59:00 PM</td>\n",
       "      <td>02/13/2016 05:59:00 PM</td>\n",
       "      <td>10/08/2015</td>\n",
       "      <td>Adoption</td>\n",
       "      <td>NaN</td>\n",
       "      <td>Dog</td>\n",
       "      <td>Neutered Male</td>\n",
       "      <td>4 months</td>\n",
       "      <td>Anatol Shepherd/Labrador Retriever</td>\n",
       "      <td>Buff</td>\n",
       "    </tr>\n",
       "    <tr>\n",
       "      <th>4</th>\n",
       "      <td>A674754</td>\n",
       "      <td>NaN</td>\n",
       "      <td>03/18/2014 11:47:00 AM</td>\n",
       "      <td>03/18/2014 11:47:00 AM</td>\n",
       "      <td>03/12/2014</td>\n",
       "      <td>Transfer</td>\n",
       "      <td>Partner</td>\n",
       "      <td>Cat</td>\n",
       "      <td>Intact Male</td>\n",
       "      <td>6 days</td>\n",
       "      <td>Domestic Shorthair Mix</td>\n",
       "      <td>Orange Tabby</td>\n",
       "    </tr>\n",
       "  </tbody>\n",
       "</table>\n",
       "</div>"
      ],
      "text/plain": [
       "  Animal ID   Name                DateTime               MonthYear  \\\n",
       "0   A794011  Chunk  05/08/2019 06:20:00 PM  05/08/2019 06:20:00 PM   \n",
       "1   A776359  Gizmo  07/18/2018 04:02:00 PM  07/18/2018 04:02:00 PM   \n",
       "2   A821648    NaN  08/16/2020 11:38:00 AM  08/16/2020 11:38:00 AM   \n",
       "3   A720371  Moose  02/13/2016 05:59:00 PM  02/13/2016 05:59:00 PM   \n",
       "4   A674754    NaN  03/18/2014 11:47:00 AM  03/18/2014 11:47:00 AM   \n",
       "\n",
       "  Date of Birth Outcome Type Outcome Subtype Animal Type Sex upon Outcome  \\\n",
       "0    05/02/2017    Rto-Adopt             NaN         Cat    Neutered Male   \n",
       "1    07/12/2017     Adoption             NaN         Dog    Neutered Male   \n",
       "2    08/16/2019   Euthanasia             NaN       Other          Unknown   \n",
       "3    10/08/2015     Adoption             NaN         Dog    Neutered Male   \n",
       "4    03/12/2014     Transfer         Partner         Cat      Intact Male   \n",
       "\n",
       "  Age upon Outcome                               Breed              Color  \n",
       "0          2 years              Domestic Shorthair Mix  Brown Tabby/White  \n",
       "1           1 year             Chihuahua Shorthair Mix        White/Brown  \n",
       "2           1 year                             Raccoon               Gray  \n",
       "3         4 months  Anatol Shepherd/Labrador Retriever               Buff  \n",
       "4           6 days              Domestic Shorthair Mix       Orange Tabby  "
      ]
     },
     "execution_count": 7,
     "metadata": {},
     "output_type": "execute_result"
    }
   ],
   "source": [
    "Outcomes.head()\n",
    "#Outcomes.describe()"
   ]
  },
  {
   "cell_type": "code",
   "execution_count": 8,
   "metadata": {},
   "outputs": [
    {
     "name": "stdout",
     "output_type": "stream",
     "text": [
      "Animal ID           object\n",
      "Name                object\n",
      "DateTime            object\n",
      "Found Location      object\n",
      "Intake Type         object\n",
      "Intake Condition    object\n",
      "Animal Type         object\n",
      "Sex upon Intake     object\n",
      "Age upon Intake     object\n",
      "Breed               object\n",
      "Color               object\n",
      "dtype: object\n",
      "Animal ID           object\n",
      "Name                object\n",
      "DateTime            object\n",
      "Date of Birth       object\n",
      "Outcome Type        object\n",
      "Outcome Subtype     object\n",
      "Animal Type         object\n",
      "Sex upon Outcome    object\n",
      "Age upon Outcome    object\n",
      "Breed               object\n",
      "Color               object\n",
      "dtype: object\n"
     ]
    }
   ],
   "source": [
    "\n",
    "def dropdupcols(df,col1,col2):\n",
    "    if (df[col1] == df[col2]).mean() == 1:\n",
    "        df.drop(columns=col2,inplace=True)\n",
    "        print(df.dtypes)\n",
    "\n",
    "dropdupcols(intakes,'DateTime','MonthYear')\n",
    "dropdupcols(outcomes,'DateTime','MonthYear')"
   ]
  },
  {
   "cell_type": "code",
   "execution_count": 9,
   "metadata": {},
   "outputs": [],
   "source": [
    "#Converting Intake Type,Intake Condition,Animal Type,Sex upon Intake to Categorical variable\n",
    "intakes['Intake Type'] = intakes['Intake Type'].astype('category')\n",
    "intakes['Intake Condition'] = intakes['Intake Condition'].astype('category')\n",
    "intakes['Animal Type'] = intakes['Animal Type'].astype('category')\n",
    "intakes['Sex upon Intake'] = intakes['Sex upon Intake'].astype('category')\n",
    "\n",
    "#Converting Outcome Type,Outcome Condition,Animal Type,Sex upon Outcome to Categorical variable\n",
    "outcomes['Outcome Type'] = outcomes['Outcome Type'].astype('category')\n",
    "outcomes['Outcome Subtype'] = outcomes['Outcome Subtype'].astype('category')\n",
    "outcomes['Animal Type'] = outcomes['Animal Type'].astype('category')\n",
    "outcomes['Sex upon Outcome'] = outcomes['Sex upon Outcome'].astype('category')"
   ]
  },
  {
   "cell_type": "code",
   "execution_count": 10,
   "metadata": {},
   "outputs": [
    {
     "name": "stdout",
     "output_type": "stream",
     "text": [
      "Intakes\n",
      "\n",
      "Animal ID -  0.000%\n",
      "Name -  31.462%\n",
      "DateTime -  0.000%\n",
      "Found Location -  0.000%\n",
      "Intake Type -  0.000%\n",
      "Intake Condition -  0.000%\n",
      "Animal Type -  0.000%\n",
      "Sex upon Intake -  0.001%\n",
      "Age upon Intake -  0.000%\n",
      "Breed -  0.000%\n",
      "Color -  0.000%\n",
      "\n",
      "Outcomes\n",
      "\n",
      "Animal ID -  0.000%\n",
      "Name -  31.348%\n",
      "DateTime -  0.000%\n",
      "Date of Birth -  0.000%\n",
      "Outcome Type -  0.016%\n",
      "Outcome Subtype -  53.966%\n",
      "Animal Type -  0.000%\n",
      "Sex upon Outcome -  0.001%\n",
      "Age upon Outcome -  0.004%\n",
      "Breed -  0.000%\n",
      "Color -  0.000%\n"
     ]
    }
   ],
   "source": [
    "#percentage of values that are missing\n",
    "print(\"Intakes\\n\")\n",
    "for col in intakes.columns:\n",
    "    missing= intakes[col].isnull().mean()\n",
    "    print(f\"{col} - {missing : .3%}\")\n",
    "    \n",
    "print(\"\\nOutcomes\\n\")\n",
    "for col in outcomes.columns:\n",
    "    missing = outcomes[col].isnull().mean()\n",
    "    print(f'{col} - {missing : .3%}')"
   ]
  },
  {
   "cell_type": "code",
   "execution_count": 11,
   "metadata": {},
   "outputs": [],
   "source": [
    "#replacing missing values as unknown\n",
    "intakes['Sex upon Intake'].fillna(\"Unknown\",inplace=True)\n",
    "outcomes['Sex upon Outcome'].fillna(\"Unknown\",inplace=True)\n",
    "outcomes['Outcome Type'].cat.add_categories(\"Unknown\", inplace=True)\n",
    "outcomes['Outcome Type'].fillna(\"Unknown\",inplace=True)\n",
    "outcomes['Outcome Subtype'].cat.add_categories(\"Unknown\", inplace=True)\n",
    "outcomes['Outcome Subtype'].fillna(\"Unknown\",inplace=True)"
   ]
  },
  {
   "cell_type": "code",
   "execution_count": 12,
   "metadata": {},
   "outputs": [],
   "source": [
    "#Converting all Age to months\n",
    "def ageconvert(age):\n",
    "    if age == \"nan\":\n",
    "\n",
    "        return age\n",
    "    \n",
    "    split = str(age).split(' ',1)\n",
    "   \n",
    "    try:\n",
    "        if split[1] == 'week' or split[1] == 'weeks':\n",
    "            # The average number of weeks in a month is 4.345\n",
    "            age_months = round(float(split[0])/4.345)\n",
    "        if split[1] == 'year' or split[1] == 'years':\n",
    "            age_months = float(split[0])/12\n",
    "        if split[1] == 'day' or split[1] == 'days':\n",
    "            age_months = round(float(split[0])/30)\n",
    "        else: \n",
    "            age_months = float(split[0])\n",
    "    except:\n",
    "        age_months = np.nan\n",
    "\n",
    "    if age_months < 0:\n",
    "        # It is not possible for us to know what the negative ages were intended to be, so these are changed to null values.\n",
    "        age_months = np.nan\n",
    "    \n",
    "    return age_months    \n",
    "    \n",
    "intakes['Age upon Intake Months'] = intakes['Age upon Intake'].apply(ageconvert)\n",
    "outcomes['Age upon Outcome Months'] = outcomes['Age upon Outcome'].apply(ageconvert)\n",
    "#stray_map['Age Months'] = stray_map['Age'].apply(ageconvert)\n",
    "       \n",
    "        "
   ]
  },
  {
   "cell_type": "code",
   "execution_count": 13,
   "metadata": {},
   "outputs": [
    {
     "data": {
      "text/plain": [
       "count    124113.000000\n",
       "mean          3.374127\n",
       "std           2.940942\n",
       "min           0.000000\n",
       "25%           1.000000\n",
       "50%           2.000000\n",
       "75%           4.000000\n",
       "max          25.000000\n",
       "Name: Age upon Intake Months, dtype: float64"
      ]
     },
     "execution_count": 13,
     "metadata": {},
     "output_type": "execute_result"
    }
   ],
   "source": [
    "intakes['Age upon Intake Months'].describe()"
   ]
  },
  {
   "cell_type": "code",
   "execution_count": 14,
   "metadata": {},
   "outputs": [
    {
     "data": {
      "text/plain": [
       "count    124479.000000\n",
       "mean          3.490926\n",
       "std           2.932903\n",
       "min           0.000000\n",
       "25%           2.000000\n",
       "50%           2.000000\n",
       "75%           5.000000\n",
       "max          25.000000\n",
       "Name: Age upon Outcome Months, dtype: float64"
      ]
     },
     "execution_count": 14,
     "metadata": {},
     "output_type": "execute_result"
    }
   ],
   "source": [
    "outcomes['Age upon Outcome Months'].describe()"
   ]
  },
  {
   "cell_type": "markdown",
   "metadata": {},
   "source": [
    "# common age upon Intake"
   ]
  },
  {
   "cell_type": "code",
   "execution_count": 15,
   "metadata": {
    "scrolled": true
   },
   "outputs": [
    {
     "name": "stderr",
     "output_type": "stream",
     "text": [
      "C:\\Users\\HP PROBOOK 640\\anaconda3\\lib\\site-packages\\seaborn\\_decorators.py:36: FutureWarning: Pass the following variables as keyword args: x, y. From version 0.12, the only valid positional argument will be `data`, and passing other arguments without an explicit keyword will result in an error or misinterpretation.\n",
      "  warnings.warn(\n"
     ]
    },
    {
     "data": {
      "image/png": "[encoded data removed]",
      "text/plain": [
       "<Figure size 864x576 with 1 Axes>"
      ]
     },
     "metadata": {
      "needs_background": "light"
     },
     "output_type": "display_data"
    }
   ],
   "source": [
    "age_upon_intake = intakes['Age upon Intake'].value_counts().head(10)\n",
    "plt.figure(figsize=(12,8))\n",
    "_ = sns.barplot(age_upon_intake.index, age_upon_intake.values)\n",
    "plt.xlabel(\"Age Upon Intake\")\n",
    "plt.ylabel(\"Count\")\n",
    "for item in _.get_xticklabels():\n",
    "    item.set_rotation(30)\n",
    "plt.show()"
   ]
  },
  {
   "cell_type": "code",
   "execution_count": null,
   "metadata": {},
   "outputs": [],
   "source": []
  },
  {
   "cell_type": "markdown",
   "metadata": {},
   "source": [
    "# Common age upon Outcome\n"
   ]
  },
  {
   "cell_type": "code",
   "execution_count": 16,
   "metadata": {
    "scrolled": true
   },
   "outputs": [
    {
     "name": "stderr",
     "output_type": "stream",
     "text": [
      "C:\\Users\\HP PROBOOK 640\\anaconda3\\lib\\site-packages\\seaborn\\_decorators.py:36: FutureWarning: Pass the following variables as keyword args: x, y. From version 0.12, the only valid positional argument will be `data`, and passing other arguments without an explicit keyword will result in an error or misinterpretation.\n",
      "  warnings.warn(\n"
     ]
    },
    {
     "data": {
      "image/png": "[encoded data removed]",
      "text/plain": [
       "<Figure size 864x576 with 1 Axes>"
      ]
     },
     "metadata": {
      "needs_background": "light"
     },
     "output_type": "display_data"
    }
   ],
   "source": [
    "age_upon_outcome = outcomes['Age upon Outcome'].value_counts().head(10)\n",
    "plt.figure(figsize=(12,8))\n",
    "_ = sns.barplot(age_upon_outcome.index, age_upon_outcome.values)\n",
    "plt.xlabel(\"Age Upon Outcome\")\n",
    "plt.ylabel(\"Count\")\n",
    "for item in _.get_xticklabels():\n",
    "    item.set_rotation(30)\n",
    "plt.show()"
   ]
  },
  {
   "cell_type": "code",
   "execution_count": 17,
   "metadata": {},
   "outputs": [
    {
     "data": {
      "image/png": "[encoded data removed]",
      "text/plain": [
       "<Figure size 432x288 with 1 Axes>"
      ]
     },
     "metadata": {
      "needs_background": "light"
     },
     "output_type": "display_data"
    }
   ],
   "source": [
    "sns.color_palette()\n",
    "a = sns.boxplot(data=intakes, x='Animal Type', y ='Age upon Intake Months')\n",
    "a=plt.title('Age of Intakes by Species')"
   ]
  },
  {
   "cell_type": "code",
   "execution_count": 18,
   "metadata": {},
   "outputs": [
    {
     "data": {
      "image/png": "[encoded data removed]",
      "text/plain": [
       "<Figure size 432x288 with 1 Axes>"
      ]
     },
     "metadata": {
      "needs_background": "light"
     },
     "output_type": "display_data"
    }
   ],
   "source": [
    "a= sns.violinplot(x='Animal Type',y='Age upon Intake Months',data=intakes)\n",
    "a=plt.xlabel('Animal Type')\n",
    "a=plt.ylabel('Age(months)')\n",
    "a=plt.title('Age of Intakes by Species')\n",
    "plt.show()"
   ]
  },
  {
   "cell_type": "markdown",
   "metadata": {},
   "source": [
    "# Count of the types of Animal in the welfare center"
   ]
  },
  {
   "cell_type": "code",
   "execution_count": 19,
   "metadata": {
    "scrolled": true
   },
   "outputs": [
    {
     "data": {
      "image/png": "[encoded data removed]",
      "text/plain": [
       "<Figure size 432x288 with 1 Axes>"
      ]
     },
     "metadata": {
      "needs_background": "light"
     },
     "output_type": "display_data"
    }
   ],
   "source": [
    "a= sns.histplot(x='Animal Type',data=intakes)\n",
    "a=plt.xlabel('Intake Name status')"
   ]
  },
  {
   "cell_type": "markdown",
   "metadata": {},
   "source": [
    "# Count of Intakes with and without Names"
   ]
  },
  {
   "cell_type": "code",
   "execution_count": 20,
   "metadata": {},
   "outputs": [
    {
     "data": {
      "image/png": "[encoded data removed]",
      "text/plain": [
       "<Figure size 432x288 with 1 Axes>"
      ]
     },
     "metadata": {
      "needs_background": "light"
     },
     "output_type": "display_data"
    }
   ],
   "source": [
    "intakes['Named'] = intakes['Name'].isnull().map({True:\"No Name\",False:'Has Name'})\n",
    "\n",
    "a= sns.histplot(data=intakes,x='Named')\n",
    "a=plt.xlabel('Intake Name status')\n",
    "a=plt.title('Count of Intakes with and without Names')"
   ]
  },
  {
   "cell_type": "markdown",
   "metadata": {},
   "source": [
    "# Unique Intakes and Repeated Intakes"
   ]
  },
  {
   "cell_type": "code",
   "execution_count": 21,
   "metadata": {},
   "outputs": [],
   "source": [
    "intakes_dup = intakes[intakes['Animal ID'].duplicated(keep=False)]\n",
    "\n",
    "intakes_uniq = intakes[~intakes['Animal ID'].duplicated(keep=False)]"
   ]
  },
  {
   "cell_type": "code",
   "execution_count": 22,
   "metadata": {},
   "outputs": [
    {
     "name": "stdout",
     "output_type": "stream",
     "text": [
      "The total count of unique intakes is 100823.0 \n",
      "The total count of multiple intakes is 23297.0 \n"
     ]
    },
    {
     "data": {
      "text/html": [
       "<style  type=\"text/css\" >\n",
       "</style><table id=\"T_5c6bfd47_5505_11ec_86f5_80000bea7f12\" ><thead>    <tr>        <th class=\"blank\" ></th>        <th class=\"blank level0\" ></th>        <th class=\"col_heading level0 col0\" >Count multiple intakes</th>        <th class=\"col_heading level0 col1\" >Percentage multiple intakes</th>        <th class=\"col_heading level0 col2\" >Count unique intakes</th>        <th class=\"col_heading level0 col3\" >Percentage unique intakes</th>    </tr>    <tr>        <th class=\"index_name level0\" >Intake Type</th>        <th class=\"index_name level1\" >Animal Type</th>        <th class=\"blank\" ></th>        <th class=\"blank\" ></th>        <th class=\"blank\" ></th>        <th class=\"blank\" ></th>    </tr></thead><tbody>\n",
       "                <tr>\n",
       "                        <th id=\"T_5c6bfd47_5505_11ec_86f5_80000bea7f12level0_row0\" class=\"row_heading level0 row0\" rowspan=5>Abandoned</th>\n",
       "                        <th id=\"T_5c6bfd47_5505_11ec_86f5_80000bea7f12level1_row0\" class=\"row_heading level1 row0\" >Bird</th>\n",
       "                        <td id=\"T_5c6bfd47_5505_11ec_86f5_80000bea7f12row0_col0\" class=\"data row0 col0\" >0.000000</td>\n",
       "                        <td id=\"T_5c6bfd47_5505_11ec_86f5_80000bea7f12row0_col1\" class=\"data row0 col1\" >0.00%</td>\n",
       "                        <td id=\"T_5c6bfd47_5505_11ec_86f5_80000bea7f12row0_col2\" class=\"data row0 col2\" >0.000000</td>\n",
       "                        <td id=\"T_5c6bfd47_5505_11ec_86f5_80000bea7f12row0_col3\" class=\"data row0 col3\" >0.00%</td>\n",
       "            </tr>\n",
       "            <tr>\n",
       "                                <th id=\"T_5c6bfd47_5505_11ec_86f5_80000bea7f12level1_row1\" class=\"row_heading level1 row1\" >Cat</th>\n",
       "                        <td id=\"T_5c6bfd47_5505_11ec_86f5_80000bea7f12row1_col0\" class=\"data row1 col0\" >5.000000</td>\n",
       "                        <td id=\"T_5c6bfd47_5505_11ec_86f5_80000bea7f12row1_col1\" class=\"data row1 col1\" >0.02%</td>\n",
       "                        <td id=\"T_5c6bfd47_5505_11ec_86f5_80000bea7f12row1_col2\" class=\"data row1 col2\" >101.000000</td>\n",
       "                        <td id=\"T_5c6bfd47_5505_11ec_86f5_80000bea7f12row1_col3\" class=\"data row1 col3\" >0.10%</td>\n",
       "            </tr>\n",
       "            <tr>\n",
       "                                <th id=\"T_5c6bfd47_5505_11ec_86f5_80000bea7f12level1_row2\" class=\"row_heading level1 row2\" >Dog</th>\n",
       "                        <td id=\"T_5c6bfd47_5505_11ec_86f5_80000bea7f12row2_col0\" class=\"data row2 col0\" >25.000000</td>\n",
       "                        <td id=\"T_5c6bfd47_5505_11ec_86f5_80000bea7f12row2_col1\" class=\"data row2 col1\" >0.11%</td>\n",
       "                        <td id=\"T_5c6bfd47_5505_11ec_86f5_80000bea7f12row2_col2\" class=\"data row2 col2\" >136.000000</td>\n",
       "                        <td id=\"T_5c6bfd47_5505_11ec_86f5_80000bea7f12row2_col3\" class=\"data row2 col3\" >0.13%</td>\n",
       "            </tr>\n",
       "            <tr>\n",
       "                                <th id=\"T_5c6bfd47_5505_11ec_86f5_80000bea7f12level1_row3\" class=\"row_heading level1 row3\" >Livestock</th>\n",
       "                        <td id=\"T_5c6bfd47_5505_11ec_86f5_80000bea7f12row3_col0\" class=\"data row3 col0\" >0.000000</td>\n",
       "                        <td id=\"T_5c6bfd47_5505_11ec_86f5_80000bea7f12row3_col1\" class=\"data row3 col1\" >0.00%</td>\n",
       "                        <td id=\"T_5c6bfd47_5505_11ec_86f5_80000bea7f12row3_col2\" class=\"data row3 col2\" >0.000000</td>\n",
       "                        <td id=\"T_5c6bfd47_5505_11ec_86f5_80000bea7f12row3_col3\" class=\"data row3 col3\" >0.00%</td>\n",
       "            </tr>\n",
       "            <tr>\n",
       "                                <th id=\"T_5c6bfd47_5505_11ec_86f5_80000bea7f12level1_row4\" class=\"row_heading level1 row4\" >Other</th>\n",
       "                        <td id=\"T_5c6bfd47_5505_11ec_86f5_80000bea7f12row4_col0\" class=\"data row4 col0\" >1.000000</td>\n",
       "                        <td id=\"T_5c6bfd47_5505_11ec_86f5_80000bea7f12row4_col1\" class=\"data row4 col1\" >0.00%</td>\n",
       "                        <td id=\"T_5c6bfd47_5505_11ec_86f5_80000bea7f12row4_col2\" class=\"data row4 col2\" >15.000000</td>\n",
       "                        <td id=\"T_5c6bfd47_5505_11ec_86f5_80000bea7f12row4_col3\" class=\"data row4 col3\" >0.01%</td>\n",
       "            </tr>\n",
       "            <tr>\n",
       "                        <th id=\"T_5c6bfd47_5505_11ec_86f5_80000bea7f12level0_row5\" class=\"row_heading level0 row5\" rowspan=5>Euthanasia Request</th>\n",
       "                        <th id=\"T_5c6bfd47_5505_11ec_86f5_80000bea7f12level1_row5\" class=\"row_heading level1 row5\" >Bird</th>\n",
       "                        <td id=\"T_5c6bfd47_5505_11ec_86f5_80000bea7f12row5_col0\" class=\"data row5 col0\" >0.000000</td>\n",
       "                        <td id=\"T_5c6bfd47_5505_11ec_86f5_80000bea7f12row5_col1\" class=\"data row5 col1\" >0.00%</td>\n",
       "                        <td id=\"T_5c6bfd47_5505_11ec_86f5_80000bea7f12row5_col2\" class=\"data row5 col2\" >3.000000</td>\n",
       "                        <td id=\"T_5c6bfd47_5505_11ec_86f5_80000bea7f12row5_col3\" class=\"data row5 col3\" >0.00%</td>\n",
       "            </tr>\n",
       "            <tr>\n",
       "                                <th id=\"T_5c6bfd47_5505_11ec_86f5_80000bea7f12level1_row6\" class=\"row_heading level1 row6\" >Cat</th>\n",
       "                        <td id=\"T_5c6bfd47_5505_11ec_86f5_80000bea7f12row6_col0\" class=\"data row6 col0\" >8.000000</td>\n",
       "                        <td id=\"T_5c6bfd47_5505_11ec_86f5_80000bea7f12row6_col1\" class=\"data row6 col1\" >0.03%</td>\n",
       "                        <td id=\"T_5c6bfd47_5505_11ec_86f5_80000bea7f12row6_col2\" class=\"data row6 col2\" >50.000000</td>\n",
       "                        <td id=\"T_5c6bfd47_5505_11ec_86f5_80000bea7f12row6_col3\" class=\"data row6 col3\" >0.05%</td>\n",
       "            </tr>\n",
       "            <tr>\n",
       "                                <th id=\"T_5c6bfd47_5505_11ec_86f5_80000bea7f12level1_row7\" class=\"row_heading level1 row7\" >Dog</th>\n",
       "                        <td id=\"T_5c6bfd47_5505_11ec_86f5_80000bea7f12row7_col0\" class=\"data row7 col0\" >12.000000</td>\n",
       "                        <td id=\"T_5c6bfd47_5505_11ec_86f5_80000bea7f12row7_col1\" class=\"data row7 col1\" >0.05%</td>\n",
       "                        <td id=\"T_5c6bfd47_5505_11ec_86f5_80000bea7f12row7_col2\" class=\"data row7 col2\" >170.000000</td>\n",
       "                        <td id=\"T_5c6bfd47_5505_11ec_86f5_80000bea7f12row7_col3\" class=\"data row7 col3\" >0.17%</td>\n",
       "            </tr>\n",
       "            <tr>\n",
       "                                <th id=\"T_5c6bfd47_5505_11ec_86f5_80000bea7f12level1_row8\" class=\"row_heading level1 row8\" >Livestock</th>\n",
       "                        <td id=\"T_5c6bfd47_5505_11ec_86f5_80000bea7f12row8_col0\" class=\"data row8 col0\" >0.000000</td>\n",
       "                        <td id=\"T_5c6bfd47_5505_11ec_86f5_80000bea7f12row8_col1\" class=\"data row8 col1\" >0.00%</td>\n",
       "                        <td id=\"T_5c6bfd47_5505_11ec_86f5_80000bea7f12row8_col2\" class=\"data row8 col2\" >0.000000</td>\n",
       "                        <td id=\"T_5c6bfd47_5505_11ec_86f5_80000bea7f12row8_col3\" class=\"data row8 col3\" >0.00%</td>\n",
       "            </tr>\n",
       "            <tr>\n",
       "                                <th id=\"T_5c6bfd47_5505_11ec_86f5_80000bea7f12level1_row9\" class=\"row_heading level1 row9\" >Other</th>\n",
       "                        <td id=\"T_5c6bfd47_5505_11ec_86f5_80000bea7f12row9_col0\" class=\"data row9 col0\" >1.000000</td>\n",
       "                        <td id=\"T_5c6bfd47_5505_11ec_86f5_80000bea7f12row9_col1\" class=\"data row9 col1\" >0.00%</td>\n",
       "                        <td id=\"T_5c6bfd47_5505_11ec_86f5_80000bea7f12row9_col2\" class=\"data row9 col2\" >13.000000</td>\n",
       "                        <td id=\"T_5c6bfd47_5505_11ec_86f5_80000bea7f12row9_col3\" class=\"data row9 col3\" >0.01%</td>\n",
       "            </tr>\n",
       "            <tr>\n",
       "                        <th id=\"T_5c6bfd47_5505_11ec_86f5_80000bea7f12level0_row10\" class=\"row_heading level0 row10\" rowspan=5>Owner Surrender</th>\n",
       "                        <th id=\"T_5c6bfd47_5505_11ec_86f5_80000bea7f12level1_row10\" class=\"row_heading level1 row10\" >Bird</th>\n",
       "                        <td id=\"T_5c6bfd47_5505_11ec_86f5_80000bea7f12row10_col0\" class=\"data row10 col0\" >0.000000</td>\n",
       "                        <td id=\"T_5c6bfd47_5505_11ec_86f5_80000bea7f12row10_col1\" class=\"data row10 col1\" >0.00%</td>\n",
       "                        <td id=\"T_5c6bfd47_5505_11ec_86f5_80000bea7f12row10_col2\" class=\"data row10 col2\" >61.000000</td>\n",
       "                        <td id=\"T_5c6bfd47_5505_11ec_86f5_80000bea7f12row10_col3\" class=\"data row10 col3\" >0.06%</td>\n",
       "            </tr>\n",
       "            <tr>\n",
       "                                <th id=\"T_5c6bfd47_5505_11ec_86f5_80000bea7f12level1_row11\" class=\"row_heading level1 row11\" >Cat</th>\n",
       "                        <td id=\"T_5c6bfd47_5505_11ec_86f5_80000bea7f12row11_col0\" class=\"data row11 col0\" >1929.000000</td>\n",
       "                        <td id=\"T_5c6bfd47_5505_11ec_86f5_80000bea7f12row11_col1\" class=\"data row11 col1\" >8.28%</td>\n",
       "                        <td id=\"T_5c6bfd47_5505_11ec_86f5_80000bea7f12row11_col2\" class=\"data row11 col2\" >7201.000000</td>\n",
       "                        <td id=\"T_5c6bfd47_5505_11ec_86f5_80000bea7f12row11_col3\" class=\"data row11 col3\" >7.14%</td>\n",
       "            </tr>\n",
       "            <tr>\n",
       "                                <th id=\"T_5c6bfd47_5505_11ec_86f5_80000bea7f12level1_row12\" class=\"row_heading level1 row12\" >Dog</th>\n",
       "                        <td id=\"T_5c6bfd47_5505_11ec_86f5_80000bea7f12row12_col0\" class=\"data row12 col0\" >6319.000000</td>\n",
       "                        <td id=\"T_5c6bfd47_5505_11ec_86f5_80000bea7f12row12_col1\" class=\"data row12 col1\" >27.12%</td>\n",
       "                        <td id=\"T_5c6bfd47_5505_11ec_86f5_80000bea7f12row12_col2\" class=\"data row12 col2\" >8496.000000</td>\n",
       "                        <td id=\"T_5c6bfd47_5505_11ec_86f5_80000bea7f12row12_col3\" class=\"data row12 col3\" >8.43%</td>\n",
       "            </tr>\n",
       "            <tr>\n",
       "                                <th id=\"T_5c6bfd47_5505_11ec_86f5_80000bea7f12level1_row13\" class=\"row_heading level1 row13\" >Livestock</th>\n",
       "                        <td id=\"T_5c6bfd47_5505_11ec_86f5_80000bea7f12row13_col0\" class=\"data row13 col0\" >0.000000</td>\n",
       "                        <td id=\"T_5c6bfd47_5505_11ec_86f5_80000bea7f12row13_col1\" class=\"data row13 col1\" >0.00%</td>\n",
       "                        <td id=\"T_5c6bfd47_5505_11ec_86f5_80000bea7f12row13_col2\" class=\"data row13 col2\" >1.000000</td>\n",
       "                        <td id=\"T_5c6bfd47_5505_11ec_86f5_80000bea7f12row13_col3\" class=\"data row13 col3\" >0.00%</td>\n",
       "            </tr>\n",
       "            <tr>\n",
       "                                <th id=\"T_5c6bfd47_5505_11ec_86f5_80000bea7f12level1_row14\" class=\"row_heading level1 row14\" >Other</th>\n",
       "                        <td id=\"T_5c6bfd47_5505_11ec_86f5_80000bea7f12row14_col0\" class=\"data row14 col0\" >27.000000</td>\n",
       "                        <td id=\"T_5c6bfd47_5505_11ec_86f5_80000bea7f12row14_col1\" class=\"data row14 col1\" >0.12%</td>\n",
       "                        <td id=\"T_5c6bfd47_5505_11ec_86f5_80000bea7f12row14_col2\" class=\"data row14 col2\" >572.000000</td>\n",
       "                        <td id=\"T_5c6bfd47_5505_11ec_86f5_80000bea7f12row14_col3\" class=\"data row14 col3\" >0.57%</td>\n",
       "            </tr>\n",
       "            <tr>\n",
       "                        <th id=\"T_5c6bfd47_5505_11ec_86f5_80000bea7f12level0_row15\" class=\"row_heading level0 row15\" rowspan=5>Public Assist</th>\n",
       "                        <th id=\"T_5c6bfd47_5505_11ec_86f5_80000bea7f12level1_row15\" class=\"row_heading level1 row15\" >Bird</th>\n",
       "                        <td id=\"T_5c6bfd47_5505_11ec_86f5_80000bea7f12row15_col0\" class=\"data row15 col0\" >0.000000</td>\n",
       "                        <td id=\"T_5c6bfd47_5505_11ec_86f5_80000bea7f12row15_col1\" class=\"data row15 col1\" >0.00%</td>\n",
       "                        <td id=\"T_5c6bfd47_5505_11ec_86f5_80000bea7f12row15_col2\" class=\"data row15 col2\" >128.000000</td>\n",
       "                        <td id=\"T_5c6bfd47_5505_11ec_86f5_80000bea7f12row15_col3\" class=\"data row15 col3\" >0.13%</td>\n",
       "            </tr>\n",
       "            <tr>\n",
       "                                <th id=\"T_5c6bfd47_5505_11ec_86f5_80000bea7f12level1_row16\" class=\"row_heading level1 row16\" >Cat</th>\n",
       "                        <td id=\"T_5c6bfd47_5505_11ec_86f5_80000bea7f12row16_col0\" class=\"data row16 col0\" >134.000000</td>\n",
       "                        <td id=\"T_5c6bfd47_5505_11ec_86f5_80000bea7f12row16_col1\" class=\"data row16 col1\" >0.58%</td>\n",
       "                        <td id=\"T_5c6bfd47_5505_11ec_86f5_80000bea7f12row16_col2\" class=\"data row16 col2\" >903.000000</td>\n",
       "                        <td id=\"T_5c6bfd47_5505_11ec_86f5_80000bea7f12row16_col3\" class=\"data row16 col3\" >0.90%</td>\n",
       "            </tr>\n",
       "            <tr>\n",
       "                                <th id=\"T_5c6bfd47_5505_11ec_86f5_80000bea7f12level1_row17\" class=\"row_heading level1 row17\" >Dog</th>\n",
       "                        <td id=\"T_5c6bfd47_5505_11ec_86f5_80000bea7f12row17_col0\" class=\"data row17 col0\" >1987.000000</td>\n",
       "                        <td id=\"T_5c6bfd47_5505_11ec_86f5_80000bea7f12row17_col1\" class=\"data row17 col1\" >8.53%</td>\n",
       "                        <td id=\"T_5c6bfd47_5505_11ec_86f5_80000bea7f12row17_col2\" class=\"data row17 col2\" >4160.000000</td>\n",
       "                        <td id=\"T_5c6bfd47_5505_11ec_86f5_80000bea7f12row17_col3\" class=\"data row17 col3\" >4.13%</td>\n",
       "            </tr>\n",
       "            <tr>\n",
       "                                <th id=\"T_5c6bfd47_5505_11ec_86f5_80000bea7f12level1_row18\" class=\"row_heading level1 row18\" >Livestock</th>\n",
       "                        <td id=\"T_5c6bfd47_5505_11ec_86f5_80000bea7f12row18_col0\" class=\"data row18 col0\" >0.000000</td>\n",
       "                        <td id=\"T_5c6bfd47_5505_11ec_86f5_80000bea7f12row18_col1\" class=\"data row18 col1\" >0.00%</td>\n",
       "                        <td id=\"T_5c6bfd47_5505_11ec_86f5_80000bea7f12row18_col2\" class=\"data row18 col2\" >1.000000</td>\n",
       "                        <td id=\"T_5c6bfd47_5505_11ec_86f5_80000bea7f12row18_col3\" class=\"data row18 col3\" >0.00%</td>\n",
       "            </tr>\n",
       "            <tr>\n",
       "                                <th id=\"T_5c6bfd47_5505_11ec_86f5_80000bea7f12level1_row19\" class=\"row_heading level1 row19\" >Other</th>\n",
       "                        <td id=\"T_5c6bfd47_5505_11ec_86f5_80000bea7f12row19_col0\" class=\"data row19 col0\" >3.000000</td>\n",
       "                        <td id=\"T_5c6bfd47_5505_11ec_86f5_80000bea7f12row19_col1\" class=\"data row19 col1\" >0.01%</td>\n",
       "                        <td id=\"T_5c6bfd47_5505_11ec_86f5_80000bea7f12row19_col2\" class=\"data row19 col2\" >305.000000</td>\n",
       "                        <td id=\"T_5c6bfd47_5505_11ec_86f5_80000bea7f12row19_col3\" class=\"data row19 col3\" >0.30%</td>\n",
       "            </tr>\n",
       "            <tr>\n",
       "                        <th id=\"T_5c6bfd47_5505_11ec_86f5_80000bea7f12level0_row20\" class=\"row_heading level0 row20\" rowspan=5>Stray</th>\n",
       "                        <th id=\"T_5c6bfd47_5505_11ec_86f5_80000bea7f12level1_row20\" class=\"row_heading level1 row20\" >Bird</th>\n",
       "                        <td id=\"T_5c6bfd47_5505_11ec_86f5_80000bea7f12row20_col0\" class=\"data row20 col0\" >0.000000</td>\n",
       "                        <td id=\"T_5c6bfd47_5505_11ec_86f5_80000bea7f12row20_col1\" class=\"data row20 col1\" >0.00%</td>\n",
       "                        <td id=\"T_5c6bfd47_5505_11ec_86f5_80000bea7f12row20_col2\" class=\"data row20 col2\" >289.000000</td>\n",
       "                        <td id=\"T_5c6bfd47_5505_11ec_86f5_80000bea7f12row20_col3\" class=\"data row20 col3\" >0.29%</td>\n",
       "            </tr>\n",
       "            <tr>\n",
       "                                <th id=\"T_5c6bfd47_5505_11ec_86f5_80000bea7f12level1_row21\" class=\"row_heading level1 row21\" >Cat</th>\n",
       "                        <td id=\"T_5c6bfd47_5505_11ec_86f5_80000bea7f12row21_col0\" class=\"data row21 col0\" >1967.000000</td>\n",
       "                        <td id=\"T_5c6bfd47_5505_11ec_86f5_80000bea7f12row21_col1\" class=\"data row21 col1\" >8.44%</td>\n",
       "                        <td id=\"T_5c6bfd47_5505_11ec_86f5_80000bea7f12row21_col2\" class=\"data row21 col2\" >34157.000000</td>\n",
       "                        <td id=\"T_5c6bfd47_5505_11ec_86f5_80000bea7f12row21_col3\" class=\"data row21 col3\" >33.88%</td>\n",
       "            </tr>\n",
       "            <tr>\n",
       "                                <th id=\"T_5c6bfd47_5505_11ec_86f5_80000bea7f12level1_row22\" class=\"row_heading level1 row22\" >Dog</th>\n",
       "                        <td id=\"T_5c6bfd47_5505_11ec_86f5_80000bea7f12row22_col0\" class=\"data row22 col0\" >10856.000000</td>\n",
       "                        <td id=\"T_5c6bfd47_5505_11ec_86f5_80000bea7f12row22_col1\" class=\"data row22 col1\" >46.60%</td>\n",
       "                        <td id=\"T_5c6bfd47_5505_11ec_86f5_80000bea7f12row22_col2\" class=\"data row22 col2\" >38286.000000</td>\n",
       "                        <td id=\"T_5c6bfd47_5505_11ec_86f5_80000bea7f12row22_col3\" class=\"data row22 col3\" >37.97%</td>\n",
       "            </tr>\n",
       "            <tr>\n",
       "                                <th id=\"T_5c6bfd47_5505_11ec_86f5_80000bea7f12level1_row23\" class=\"row_heading level1 row23\" >Livestock</th>\n",
       "                        <td id=\"T_5c6bfd47_5505_11ec_86f5_80000bea7f12row23_col0\" class=\"data row23 col0\" >0.000000</td>\n",
       "                        <td id=\"T_5c6bfd47_5505_11ec_86f5_80000bea7f12row23_col1\" class=\"data row23 col1\" >0.00%</td>\n",
       "                        <td id=\"T_5c6bfd47_5505_11ec_86f5_80000bea7f12row23_col2\" class=\"data row23 col2\" >20.000000</td>\n",
       "                        <td id=\"T_5c6bfd47_5505_11ec_86f5_80000bea7f12row23_col3\" class=\"data row23 col3\" >0.02%</td>\n",
       "            </tr>\n",
       "            <tr>\n",
       "                                <th id=\"T_5c6bfd47_5505_11ec_86f5_80000bea7f12level1_row24\" class=\"row_heading level1 row24\" >Other</th>\n",
       "                        <td id=\"T_5c6bfd47_5505_11ec_86f5_80000bea7f12row24_col0\" class=\"data row24 col0\" >15.000000</td>\n",
       "                        <td id=\"T_5c6bfd47_5505_11ec_86f5_80000bea7f12row24_col1\" class=\"data row24 col1\" >0.06%</td>\n",
       "                        <td id=\"T_5c6bfd47_5505_11ec_86f5_80000bea7f12row24_col2\" class=\"data row24 col2\" >865.000000</td>\n",
       "                        <td id=\"T_5c6bfd47_5505_11ec_86f5_80000bea7f12row24_col3\" class=\"data row24 col3\" >0.86%</td>\n",
       "            </tr>\n",
       "            <tr>\n",
       "                        <th id=\"T_5c6bfd47_5505_11ec_86f5_80000bea7f12level0_row25\" class=\"row_heading level0 row25\" rowspan=5>Wildlife</th>\n",
       "                        <th id=\"T_5c6bfd47_5505_11ec_86f5_80000bea7f12level1_row25\" class=\"row_heading level1 row25\" >Bird</th>\n",
       "                        <td id=\"T_5c6bfd47_5505_11ec_86f5_80000bea7f12row25_col0\" class=\"data row25 col0\" >0.000000</td>\n",
       "                        <td id=\"T_5c6bfd47_5505_11ec_86f5_80000bea7f12row25_col1\" class=\"data row25 col1\" >0.00%</td>\n",
       "                        <td id=\"T_5c6bfd47_5505_11ec_86f5_80000bea7f12row25_col2\" class=\"data row25 col2\" >105.000000</td>\n",
       "                        <td id=\"T_5c6bfd47_5505_11ec_86f5_80000bea7f12row25_col3\" class=\"data row25 col3\" >0.10%</td>\n",
       "            </tr>\n",
       "            <tr>\n",
       "                                <th id=\"T_5c6bfd47_5505_11ec_86f5_80000bea7f12level1_row26\" class=\"row_heading level1 row26\" >Cat</th>\n",
       "                        <td id=\"T_5c6bfd47_5505_11ec_86f5_80000bea7f12row26_col0\" class=\"data row26 col0\" >0.000000</td>\n",
       "                        <td id=\"T_5c6bfd47_5505_11ec_86f5_80000bea7f12row26_col1\" class=\"data row26 col1\" >0.00%</td>\n",
       "                        <td id=\"T_5c6bfd47_5505_11ec_86f5_80000bea7f12row26_col2\" class=\"data row26 col2\" >0.000000</td>\n",
       "                        <td id=\"T_5c6bfd47_5505_11ec_86f5_80000bea7f12row26_col3\" class=\"data row26 col3\" >0.00%</td>\n",
       "            </tr>\n",
       "            <tr>\n",
       "                                <th id=\"T_5c6bfd47_5505_11ec_86f5_80000bea7f12level1_row27\" class=\"row_heading level1 row27\" >Dog</th>\n",
       "                        <td id=\"T_5c6bfd47_5505_11ec_86f5_80000bea7f12row27_col0\" class=\"data row27 col0\" >0.000000</td>\n",
       "                        <td id=\"T_5c6bfd47_5505_11ec_86f5_80000bea7f12row27_col1\" class=\"data row27 col1\" >0.00%</td>\n",
       "                        <td id=\"T_5c6bfd47_5505_11ec_86f5_80000bea7f12row27_col2\" class=\"data row27 col2\" >0.000000</td>\n",
       "                        <td id=\"T_5c6bfd47_5505_11ec_86f5_80000bea7f12row27_col3\" class=\"data row27 col3\" >0.00%</td>\n",
       "            </tr>\n",
       "            <tr>\n",
       "                                <th id=\"T_5c6bfd47_5505_11ec_86f5_80000bea7f12level1_row28\" class=\"row_heading level1 row28\" >Livestock</th>\n",
       "                        <td id=\"T_5c6bfd47_5505_11ec_86f5_80000bea7f12row28_col0\" class=\"data row28 col0\" >0.000000</td>\n",
       "                        <td id=\"T_5c6bfd47_5505_11ec_86f5_80000bea7f12row28_col1\" class=\"data row28 col1\" >0.00%</td>\n",
       "                        <td id=\"T_5c6bfd47_5505_11ec_86f5_80000bea7f12row28_col2\" class=\"data row28 col2\" >0.000000</td>\n",
       "                        <td id=\"T_5c6bfd47_5505_11ec_86f5_80000bea7f12row28_col3\" class=\"data row28 col3\" >0.00%</td>\n",
       "            </tr>\n",
       "            <tr>\n",
       "                                <th id=\"T_5c6bfd47_5505_11ec_86f5_80000bea7f12level1_row29\" class=\"row_heading level1 row29\" >Other</th>\n",
       "                        <td id=\"T_5c6bfd47_5505_11ec_86f5_80000bea7f12row29_col0\" class=\"data row29 col0\" >8.000000</td>\n",
       "                        <td id=\"T_5c6bfd47_5505_11ec_86f5_80000bea7f12row29_col1\" class=\"data row29 col1\" >0.03%</td>\n",
       "                        <td id=\"T_5c6bfd47_5505_11ec_86f5_80000bea7f12row29_col2\" class=\"data row29 col2\" >4785.000000</td>\n",
       "                        <td id=\"T_5c6bfd47_5505_11ec_86f5_80000bea7f12row29_col3\" class=\"data row29 col3\" >4.75%</td>\n",
       "            </tr>\n",
       "    </tbody></table>"
      ],
      "text/plain": [
       "<pandas.io.formats.style.Styler at 0x22594f4aa60>"
      ]
     },
     "execution_count": 22,
     "metadata": {},
     "output_type": "execute_result"
    }
   ],
   "source": [
    "dup_count = intakes_dup[['Intake Type','Animal Type','Animal ID']].groupby(['Intake Type','Animal Type']).count()\n",
    "dup_count.rename(columns= {'Animal ID': 'Count'},inplace=True)\n",
    "dup_count['Percentage'] = dup_count['Count']/ dup_count['Count'].sum()\n",
    "\n",
    "\n",
    "uniq_count = intakes_uniq[['Intake Type','Animal Type','Animal ID']].groupby(['Intake Type','Animal Type']).count()\n",
    "uniq_count.rename(columns= {'Animal ID': 'Count'},inplace=True)\n",
    "uniq_count['Percentage'] = uniq_count['Count']/ uniq_count['Count'].sum()\n",
    "\n",
    "\n",
    "dup_vs_uniq = dup_count.merge(uniq_count,left_index = True, right_index = True, suffixes=[\" multiple intakes\",\" unique intakes\"])\n",
    "dup_vs_uniq = dup_vs_uniq.fillna(0)\n",
    "print(f\"The total count of unique intakes is {uniq_count['Count'].sum()} \")\n",
    "print(f\"The total count of multiple intakes is {dup_count['Count'].sum()} \")\n",
    "\n",
    "dup_vs_uniq.style.format({\n",
    "    'Percentage multiple intakes': '{:,.2%}'.format,\n",
    "    'Percentage unique intakes': '{:,.2%}'.format,\n",
    "})"
   ]
  },
  {
   "cell_type": "code",
   "execution_count": 23,
   "metadata": {},
   "outputs": [
    {
     "data": {
      "text/plain": [
       "<Figure size 432x288 with 0 Axes>"
      ]
     },
     "metadata": {},
     "output_type": "display_data"
    },
    {
     "data": {
      "image/png": "[encoded data removed]",
      "text/plain": [
       "<Figure size 864x360 with 2 Axes>"
      ]
     },
     "metadata": {
      "needs_background": "light"
     },
     "output_type": "display_data"
    }
   ],
   "source": [
    "plt.clf()\n",
    "\n",
    "\n",
    "\n",
    "fig, ax = plt.subplots(1, 2, sharey=True, figsize=(12,5))\n",
    "a = fig.suptitle('Intake Type Comparison')\n",
    "\n",
    "\n",
    "a = sns.histplot(intakes_uniq, x='Intake Type', hue='Animal Type', multiple='stack', ax=ax[0])\n",
    "a = ax[0].set_title('Unique Intakes')\n",
    "a = ax[0].tick_params(axis='x', rotation=90)\n",
    "\n",
    "\n",
    "a = sns.histplot(intakes_dup, x='Intake Type', hue='Animal Type', multiple='stack', ax=ax[1])\n",
    "a = ax[1].set_title('Repeat Intakes')\n",
    "a= ax[1].tick_params(axis='x', rotation=90)\n",
    "\n",
    "\n",
    "plt.show();"
   ]
  },
  {
   "cell_type": "markdown",
   "metadata": {},
   "source": [
    "# Distribution of Animal Intakes per month"
   ]
  },
  {
   "cell_type": "code",
   "execution_count": 24,
   "metadata": {
    "scrolled": true
   },
   "outputs": [
    {
     "data": {
      "image/png": "[encoded data removed]",
      "text/plain": [
       "<Figure size 2160x720 with 1 Axes>"
      ]
     },
     "metadata": {},
     "output_type": "display_data"
    }
   ],
   "source": [
    "sns.set_style(\"whitegrid\")\n",
    "\n",
    "intakes['DateTime'] = pd.to_datetime(intakes['DateTime'], errors='coerce')\n",
    "\n",
    "intakes['month'] = intakes['DateTime'].dt.month\n",
    "intakes['year'] = intakes['DateTime'].dt.year\n",
    "\n",
    "in_month = intakes[['Animal ID','year','month']].groupby(['year','month']).count()\n",
    "\n",
    "a = in_month.plot(kind='bar',figsize=(30,10))\n",
    "a = plt.ylabel('Count')\n",
    "a = plt.xticks(fontsize=14)\n",
    "a = plt.title('Count of Animal Intakes per month')"
   ]
  },
  {
   "cell_type": "markdown",
   "metadata": {},
   "source": [
    "# count of intakes per year"
   ]
  },
  {
   "cell_type": "code",
   "execution_count": 25,
   "metadata": {},
   "outputs": [
    {
     "ename": "SyntaxError",
     "evalue": "invalid syntax (<ipython-input-25-d91bccc3bedb>, line 1)",
     "output_type": "error",
     "traceback": [
      "\u001b[1;36m  File \u001b[1;32m\"<ipython-input-25-d91bccc3bedb>\"\u001b[1;36m, line \u001b[1;32m1\u001b[0m\n\u001b[1;33m    intakes['year'].sort_values().value_counts().\u001b[0m\n\u001b[1;37m                                                 ^\u001b[0m\n\u001b[1;31mSyntaxError\u001b[0m\u001b[1;31m:\u001b[0m invalid syntax\n"
     ]
    }
   ],
   "source": [
    "intakes['year'].sort_values().value_counts()."
   ]
  },
  {
   "cell_type": "code",
   "execution_count": null,
   "metadata": {},
   "outputs": [],
   "source": [
    "plt.figure(figsize=(12, 8))\n",
    "sns.countplot(x=intakes['year'] , data=intakes, orient='v')\n",
    "plt.title('Count of Intakes by Year - All years', fontsize=18)\n",
    "plt.xlabel('Year', fontsize=18)\n",
    "plt.ylabel('Count of Intakes', fontsize=18)\n",
    "plt.xticks(fontsize=16)\n",
    "plt.yticks(fontsize=16)"
   ]
  },
  {
   "cell_type": "markdown",
   "metadata": {},
   "source": [
    "# Count of Intakes by Month of year"
   ]
  },
  {
   "cell_type": "code",
   "execution_count": null,
   "metadata": {},
   "outputs": [],
   "source": [
    "plt.figure(figsize=(12, 8))\n",
    "sns.countplot(x=intakes['month'] , data=intakes, orient='v')\n",
    "plt.title('Count of Intakes by Month of Year - All years', fontsize=18)\n",
    "plt.xlabel('Month', fontsize=18)\n",
    "plt.ylabel('Count of Intakes', fontsize=18)\n",
    "plt.xticks(fontsize=16)\n",
    "plt.yticks(fontsize=16)"
   ]
  },
  {
   "cell_type": "markdown",
   "metadata": {},
   "source": [
    "# correlation between months of intake and intake type"
   ]
  },
  {
   "cell_type": "code",
   "execution_count": null,
   "metadata": {},
   "outputs": [],
   "source": [
    "in_by_month =intakes.groupby(['Intake Type',intakes.DateTime.dt.month]).agg({'Animal ID':'count'}).reset_index()\n",
    "\n",
    "in_by_month.rename(columns={'Animal ID':'Count'},inplace=True)\n",
    "in_by_month_wide = in_by_month.pivot_table(index=\"DateTime\",columns='Intake Type',values='Count')\n",
    "in_by_month\n",
    "\n",
    "\n",
    "f, ax = plt.subplots(figsize=(9, 9))\n",
    "a= sns.heatmap(in_by_month_wide, annot=True, fmt=\"d\", linewidths=.5, ax=ax,cmap=\"YlGnBu\")\n",
    "a = plt.xticks(fontsize=14, rotation=45)\n",
    "a = plt.ylabel('Month of Intake',fontsize=14)\n",
    "a = plt.title('Intake Type by Month ')"
   ]
  },
  {
   "cell_type": "markdown",
   "metadata": {},
   "source": [
    "# Distribution of outcomes\n"
   ]
  },
  {
   "cell_type": "code",
   "execution_count": null,
   "metadata": {},
   "outputs": [],
   "source": [
    "sns.set_style(\"whitegrid\")\n",
    "\n",
    "outcomes['DateTime'] = pd.to_datetime(outcomes['DateTime'], errors='coerce')\n",
    "\n",
    "outcomes['month'] = outcomes['DateTime'].dt.month\n",
    "outcomes['year'] = outcomes['DateTime'].dt.year\n",
    "\n",
    "in_month = outcomes[['Animal ID','year','month']].groupby(['year','month']).count()\n",
    "\n",
    "a = in_month.plot(kind='bar',figsize=(30,10))\n",
    "a = plt.ylabel('Count')\n",
    "a = plt.xticks(fontsize=14)\n",
    "a = plt.title('Count of Animal Intakes per month')"
   ]
  },
  {
   "cell_type": "markdown",
   "metadata": {},
   "source": [
    "# Count of Outcomes by type"
   ]
  },
  {
   "cell_type": "code",
   "execution_count": null,
   "metadata": {},
   "outputs": [],
   "source": [
    "plt.figure(figsize=(12, 8))\n",
    "sns.countplot(x='Outcome Type', data=Outcomes, orient='v')\n",
    "plt.title('Count of Outcomes by Type - All', fontsize=18)\n",
    "plt.xlabel('Outcome Type', fontsize=16)\n",
    "plt.ylabel('Count of Outcomes', fontsize=16)\n",
    "plt.xticks(fontsize=12, rotation='vertical')\n",
    "plt.yticks(fontsize=12);"
   ]
  },
  {
   "cell_type": "markdown",
   "metadata": {},
   "source": [
    "# count of outcomes by year"
   ]
  },
  {
   "cell_type": "code",
   "execution_count": null,
   "metadata": {},
   "outputs": [],
   "source": [
    "plt.figure(figsize=(12, 8))\n",
    "sns.countplot(x=outcomes['year'] , data=outcomes, orient='v')\n",
    "plt.title('Count of Outcomes by Year - All years', fontsize=18)\n",
    "plt.xlabel('Year', fontsize=18)\n",
    "plt.ylabel('Count of outcomes', fontsize=18)\n",
    "plt.xticks(fontsize=16)\n",
    "plt.yticks(fontsize=16)"
   ]
  },
  {
   "cell_type": "markdown",
   "metadata": {},
   "source": [
    "# Count of Outcomes by Month OF YEAR"
   ]
  },
  {
   "cell_type": "code",
   "execution_count": null,
   "metadata": {},
   "outputs": [],
   "source": [
    "plt.figure(figsize=(12, 8))\n",
    "sns.countplot(x=outcomes['month'] , data=Outcomes, orient='v')\n",
    "plt.title('Count of Outcomes by Month of Year - All years', fontsize=18)\n",
    "plt.xlabel('Month', fontsize=18)\n",
    "plt.ylabel('Count ofOutcomes', fontsize=18)\n",
    "plt.xticks(fontsize=16)\n",
    "plt.yticks(fontsize=16)"
   ]
  },
  {
   "cell_type": "code",
   "execution_count": null,
   "metadata": {},
   "outputs": [],
   "source": [
    "#Distribution of animal type by their outcome \n",
    "a = sns.histplot(x='Animal Type', hue = 'Outcome Type', data = outcomes, multiple ='dodge')\n",
    "\n",
    "out_by_animal = outcomes[['Animal ID','Outcome Type','Animal Type']].groupby(['Animal Type','Outcome Type']).count()\n",
    "out_by_animal.rename(columns = {'Animal ID':'Count'},inplace=True)\n",
    "out_by_animal"
   ]
  },
  {
   "cell_type": "code",
   "execution_count": null,
   "metadata": {},
   "outputs": [],
   "source": [
    "sns.set_style(\"whitegrid\")\n",
    "\n",
    "outcomes['DateTime'] = pd.to_datetime(outcomes['DateTime'], errors='coerce')\n",
    "\n",
    "\n",
    "outcomes['month'] = outcomes['DateTime'].dt.month\n",
    "outcomes['year'] = outcomes['DateTime'].dt.year\n",
    "\n",
    "out_month = outcomes[['Animal ID','year','month']].groupby(['year','month']).count()\n",
    "\n",
    "a= out_month.plot(kind='bar',figsize=(30,10))\n",
    "a = plt.ylabel('Count')\n",
    "a = plt.xticks(fontsize=14)\n",
    "a = plt.title('Count of Animal Outcomes per month')"
   ]
  },
  {
   "cell_type": "code",
   "execution_count": null,
   "metadata": {},
   "outputs": [],
   "source": [
    "outcomes_uniq = outcomes[~outcomes['Animal ID'].duplicated(keep=False)]\n",
    "\n",
    "in_out_uniq = intakes_uniq.merge(right=outcomes_uniq, how='left', on='Animal ID',suffixes=['_in','_out'])\n",
    "\n",
    "count_in_out = in_out_uniq[['Animal ID','Intake Type','Outcome Type']].groupby(['Intake Type','Outcome Type']).count()\n",
    "\n",
    "count_in_out"
   ]
  },
  {
   "cell_type": "markdown",
   "metadata": {},
   "source": [
    "# Distribution of intake type and Outcome type"
   ]
  },
  {
   "cell_type": "code",
   "execution_count": null,
   "metadata": {},
   "outputs": [],
   "source": [
    "fig_dims = (20, 4)\n",
    "fig, ax = plt.subplots(figsize=fig_dims)\n",
    "\n",
    "_ = sns.histplot(x='Intake Type',hue='Outcome Type',data = in_out_uniq,multiple ='dodge', ax=ax)"
   ]
  },
  {
   "cell_type": "markdown",
   "metadata": {},
   "source": [
    "# Correlation between intake type and Outcome type"
   ]
  },
  {
   "cell_type": "code",
   "execution_count": null,
   "metadata": {},
   "outputs": [],
   "source": [
    "in_out_type = in_out_uniq.groupby(['Intake Type','Outcome Type']).agg({'Animal ID':'count'}).reset_index()\n",
    "\n",
    "in_out_type.rename(columns= {'Animal ID': 'Count'},inplace=True)\n",
    "in_out_wide = in_out_type.pivot_table(index='Outcome Type',columns='Intake Type',values='Count')\n",
    "\n",
    "f, ax = plt.subplots(figsize=(9, 9))\n",
    "_ = sns.heatmap(in_out_wide, annot=True, fmt=\"d\", linewidths=.5, ax=ax,cmap=\"YlGnBu\")\n",
    "_ = plt.xticks(rotation=45)\n",
    "_ = plt.ylabel('Outcome type',fontsize=14)\n",
    "_ = plt.title('Intake Type and Outcome Type ')"
   ]
  },
  {
   "cell_type": "markdown",
   "metadata": {},
   "source": [
    "# Distribution of the breed by their animal type"
   ]
  },
  {
   "cell_type": "code",
   "execution_count": null,
   "metadata": {},
   "outputs": [],
   "source": [
    "animal_type = intakes['Animal Type'].value_counts()\n",
    "animal_type.plot.bar(figsize=fig_size)\n",
    "plt.title('Count of Breeds by their Animal Type', fontsize=18)\n",
    "plt.xlabel('Animal Type', fontsize=18)\n",
    "plt.ylabel('Count of Breeds', fontsize=18)\n",
    "plt.xticks(fontsize=16)\n",
    "plt.yticks(fontsize=16)\n"
   ]
  },
  {
   "cell_type": "code",
   "execution_count": null,
   "metadata": {},
   "outputs": [],
   "source": [
    "# Donut Plot\n",
    "plt.figure(figsize=(12,8))\n",
    "\n",
    "plt.pie(animal_type, labels=animal_type.index, colors=['#ff9999','#66b3ff','#99ff99','#ffcc99'], \n",
    "        autopct='%1.1f%%', pctdistance=1.1, labeldistance=0.5)  # Create a pieplot\n",
    "my_circle = plt.Circle( (0,0), 0.7, color='white') # add a circle at the center\n",
    "p = plt.gcf()\n",
    "p.gca().add_artist(my_circle)\n",
    "plt.title('Animal Type Distribution- ALL', fontsize=30);\n",
    "plt.show()"
   ]
  },
  {
   "cell_type": "markdown",
   "metadata": {},
   "source": [
    "# Intake TYPE"
   ]
  },
  {
   "cell_type": "code",
   "execution_count": null,
   "metadata": {},
   "outputs": [],
   "source": [
    "intake_type = Intakes['Intake Type'].value_counts().head(4)\n",
    "plt.figure(figsize=(6,6))\n",
    "#colors\n",
    "colors = ['#ff9999','#66b3ff','#99ff99','#ffcc99']\n",
    "#explsion\n",
    "explode = (0.05,0.05,0.05,0.05)\n",
    "plt.pie(intake_type, colors = colors, labels=intake_type.index, autopct='%1.1f%%', startangle=90, pctdistance=0.85, explode = explode)\n",
    "#draw circle\n",
    "centre_circle = plt.Circle((0,0),0.70,fc='white')\n",
    "fig = plt.gcf()\n",
    "fig.gca().add_artist(centre_circle)\n",
    "# Equal aspect ratio ensures that pie is drawn as a circle\n",
    "plt.axis('equal')  \n",
    "plt.tight_layout()\n",
    "plt.title('Intake Type Distribution- ALL', fontsize=15);\n",
    "plt.show()"
   ]
  },
  {
   "cell_type": "markdown",
   "metadata": {},
   "source": [
    "# Intake Condition"
   ]
  },
  {
   "cell_type": "code",
   "execution_count": null,
   "metadata": {},
   "outputs": [],
   "source": [
    "intake_condition = Intakes['Intake Condition'].value_counts().head(4)\n",
    "plt.figure(figsize=(6,6))\n",
    "#colors\n",
    "colors = ['#ff9999','#66b3ff','#99ff99','#ffcc99']\n",
    "#explsion\n",
    "explode = (0.05,0.05,0.05,0.05)\n",
    "plt.pie(intake_condition, colors = colors, labels=intake_condition.index, autopct='%1.1f%%', startangle=90, pctdistance=0.85, explode = explode)\n",
    "#draw circle\n",
    "centre_circle = plt.Circle((0,0),0.70,fc='white')\n",
    "fig = plt.gcf()\n",
    "fig.gca().add_artist(centre_circle)\n",
    "# Equal aspect ratio ensures that pie is drawn as a circle\n",
    "plt.axis('equal')  \n",
    "plt.tight_layout()\n",
    "plt.title('Intake Condition',fontsize=20)\n",
    "plt.show()"
   ]
  },
  {
   "cell_type": "code",
   "execution_count": null,
   "metadata": {
    "scrolled": true
   },
   "outputs": [],
   "source": [
    "int =Intakes['Name'].groupby(Intakes['Animal Type'])\n",
    "int.groups\n",
    "int.describe()\n",
    "#int.plot.bar(figsize=fig_size)"
   ]
  },
  {
   "cell_type": "code",
   "execution_count": null,
   "metadata": {},
   "outputs": [],
   "source": [
    "Intakes['Name'].value_counts().head(15).plot.bar(figsize = fig_size)\n",
    "plt.title('Count of  Name', fontsize=18)\n",
    "plt.xlabel('Name', fontsize=18)\n",
    "plt.ylabel('Count of Animals', fontsize=18)\n",
    "plt.xticks(fontsize=16)\n",
    "plt.yticks(fontsize=16)"
   ]
  },
  {
   "cell_type": "code",
   "execution_count": null,
   "metadata": {},
   "outputs": [],
   "source": [
    "into =Intakes['Breed'].groupby(Intakes['Animal Type'])\n",
    "into.describe()"
   ]
  },
  {
   "cell_type": "code",
   "execution_count": null,
   "metadata": {},
   "outputs": [],
   "source": [
    "int =Intakes['Intake Type'].groupby(Intakes['Animal Type'])\n",
    "int.groups\n",
    "int.describe()"
   ]
  },
  {
   "cell_type": "code",
   "execution_count": null,
   "metadata": {},
   "outputs": [],
   "source": [
    "int =Intakes['Color'].groupby(Intakes['Animal Type'])\n",
    "int.groups\n",
    "int.describe()"
   ]
  },
  {
   "cell_type": "code",
   "execution_count": null,
   "metadata": {},
   "outputs": [],
   "source": [
    "int = Intakes[Intakes['Animal Type'] == 'Dog'] \n",
    "int1= int.Breed\n",
    "int1.describe()\n"
   ]
  },
  {
   "cell_type": "markdown",
   "metadata": {},
   "source": [
    "# Outcome Type"
   ]
  },
  {
   "cell_type": "code",
   "execution_count": null,
   "metadata": {},
   "outputs": [],
   "source": [
    "outcome_type = Outcomes['Outcome Type'].value_counts().head(4)\n",
    "plt.figure(figsize=(6,6))\n",
    "#colors\n",
    "colors = ['#ff9999','#66b3ff','#99ff99','#ffcc99']\n",
    "#explsion\n",
    "explode = (0.05,0.05,0.05,0.05)\n",
    "plt.pie(outcome_type, colors = colors, labels=outcome_type.index, autopct='%1.1f%%', startangle=90, pctdistance=0.85, explode = explode)\n",
    "#draw circle\n",
    "centre_circle = plt.Circle((0,0),0.70,fc='white')\n",
    "fig = plt.gcf()\n",
    "fig.gca().add_artist(centre_circle)\n",
    "# Equal aspect ratio ensures that pie is drawn as a circle\n",
    "plt.axis('equal')  \n",
    "plt.tight_layout()\n",
    "plt.title(\"Outcome Type\",fontsize=15)\n",
    "plt.show()"
   ]
  },
  {
   "cell_type": "markdown",
   "metadata": {},
   "source": [
    "\n",
    "# TOP BREEDS OF ANIMALS THAT CAME IN AND GOT OUT "
   ]
  },
  {
   "cell_type": "code",
   "execution_count": null,
   "metadata": {},
   "outputs": [],
   "source": [
    "\n",
    "\n",
    "#TOP 20 BREEDS of the Animals brought in.\n",
    "Intakes['Breed'].value_counts().head(20)"
   ]
  },
  {
   "cell_type": "code",
   "execution_count": null,
   "metadata": {},
   "outputs": [],
   "source": [
    "#TOP 20 breeds that left the animal center\n",
    "Outcomes['Breed'].value_counts().head(20)"
   ]
  },
  {
   "cell_type": "markdown",
   "metadata": {},
   "source": [
    "# distribution of dogs by their intake type"
   ]
  },
  {
   "cell_type": "code",
   "execution_count": null,
   "metadata": {},
   "outputs": [],
   "source": [
    "dogs   = Intakes[Intakes['Animal Type'] == 'Dog']\n",
    "dogs.head()\n",
    "dogs['Intake Type'].value_counts().plot.bar(figsize = fig_size)\n",
    "plt.title('Count of dogs by their Intake Type', fontsize=18)\n",
    "plt.xlabel('Intake Type', fontsize=18)\n",
    "plt.ylabel('Count of Dogs', fontsize=18)\n",
    "plt.xticks(fontsize=16)\n",
    "plt.yticks(fontsize=16)"
   ]
  },
  {
   "cell_type": "code",
   "execution_count": null,
   "metadata": {},
   "outputs": [],
   "source": [
    "dogs   = Intakes[Intakes['Animal Type'] == 'Dog']\n",
    "dogs.head()\n",
    "dogs['Name'].value_counts().head(10).plot.bar(figsize = fig_size)\n",
    "plt.title('Count of dogs by their Nmae', fontsize=18)\n",
    "plt.xlabel('Name', fontsize=18)\n",
    "plt.ylabel('Count of Dogs', fontsize=18)\n",
    "plt.xticks(fontsize=16)\n",
    "plt.yticks(fontsize=16)"
   ]
  },
  {
   "cell_type": "code",
   "execution_count": null,
   "metadata": {},
   "outputs": [],
   "source": [
    "#TOP 10 BREEDS OF DOGS THAT WAS TAKEN INTO THE CENTER\n",
    "dogs['Breed'].value_counts().head(10).plot.bar(figsize = fig_size)\n",
    "plt.title('Count of dogs by their breeds', fontsize=18)\n",
    "plt.xlabel('Breeds', fontsize=18)\n",
    "plt.ylabel('Count of Dogs', fontsize=18)\n",
    "plt.xticks(fontsize=16)\n",
    "plt.yticks(fontsize=16)"
   ]
  },
  {
   "cell_type": "code",
   "execution_count": null,
   "metadata": {},
   "outputs": [],
   "source": [
    "stray_dogs = dogs[dogs['Intake Type'] == 'Stray']\n",
    "\n",
    "# Top 20\n",
    "stray_dogs['Breed'].value_counts().head(20).plot.bar(figsize = fig_size)\n",
    "plt.title('Count of Stray_dogs by their breeds', fontsize=18)\n",
    "plt.xlabel('Breeds', fontsize=18)\n",
    "plt.ylabel('Count of Dogs', fontsize=18)\n",
    "plt.xticks(fontsize=16)\n",
    "plt.yticks(fontsize=16)"
   ]
  },
  {
   "cell_type": "code",
   "execution_count": null,
   "metadata": {
    "scrolled": true
   },
   "outputs": [],
   "source": [
    "#the breeds owners surrendered to the center\n",
    "#maybe they are difficult to take care of\n",
    "owner_surrender = dogs[dogs['Intake Type'] == 'Owner Surrender']\n",
    "\n",
    "# Top 20\n",
    "owner_surrender['Breed'].value_counts().head(20).plot.bar(figsize = fig_size)\n",
    "plt.title('Count of dogs surrendered by owners by their breeds', fontsize=18)\n",
    "plt.xlabel('Breeds', fontsize=18)\n",
    "plt.ylabel('Count of Dogs', fontsize=18)\n",
    "plt.xticks(fontsize=16)\n",
    "plt.yticks(fontsize=16)"
   ]
  },
  {
   "cell_type": "code",
   "execution_count": null,
   "metadata": {},
   "outputs": [],
   "source": [
    "dogs   = Intakes[Intakes['Animal Type'] == 'Dog'] \n",
    "dog= dogs.Color\n",
    "dog.value_counts().head(20)\n",
    "#int1.describe()\n",
    "col = dog.value_counts().head(5)\n",
    "plt.figure(figsize=(6,6))\n",
    "#colors\n",
    "colors = ['#ff9999','#66b3ff','#99ff99','#ffcc99']\n",
    "#explsion\n",
    "explode = (0.05,0.05,0.05,0.05,0.05)\n",
    "plt.pie(col, colors = colors, labels=col.index, autopct='%1.1f%%', startangle=90, pctdistance=0.85, explode = explode)\n",
    "#draw circle\n",
    "centre_circle = plt.Circle((0,0),0.70,fc='white')\n",
    "fig = plt.gcf()\n",
    "fig.gca().add_artist(centre_circle)\n",
    "# Equal aspect ratio ensures that pie is drawn as a circle\n",
    "plt.axis('equal')  \n",
    "plt.tight_layout()\n",
    "plt.title('Color Distribution OF Intakes- DOG', fontsize=15);\n",
    "plt.show()"
   ]
  },
  {
   "cell_type": "markdown",
   "metadata": {},
   "source": [
    "# distribution of dogs by their Outcomes"
   ]
  },
  {
   "cell_type": "code",
   "execution_count": null,
   "metadata": {},
   "outputs": [],
   "source": [
    "doge   = Outcomes[Outcomes['Animal Type'] == 'Dog']\n",
    "doge['Outcome Type'].value_counts()\n"
   ]
  },
  {
   "cell_type": "code",
   "execution_count": null,
   "metadata": {},
   "outputs": [],
   "source": [
    "fig_size = (12, 8)\n",
    "\n",
    "doge['Outcome Type'].value_counts().plot.bar(figsize=fig_size)\n",
    "plt.title('Outcome Type of Dogs', fontsize=18)\n",
    "plt.xlabel('Outcome Type', fontsize=18)\n",
    "plt.ylabel('Count of Dogs', fontsize=18)\n",
    "plt.xticks(fontsize=16)\n",
    "plt.yticks(fontsize=16)"
   ]
  },
  {
   "cell_type": "code",
   "execution_count": null,
   "metadata": {},
   "outputs": [],
   "source": [
    "doge = Outcomes[Outcomes['Animal Type'] == 'Dog'] \n",
    "doge1= doge.Breed\n",
    "doge1.describe()\n",
    "doge1.sort_values().describe()"
   ]
  },
  {
   "cell_type": "code",
   "execution_count": null,
   "metadata": {},
   "outputs": [],
   "source": [
    "dog = Outcomes[Outcomes['Animal Type'] == 'Dog'] \n",
    "doge2= dog.Color\n",
    "doge2.value_counts().head(20)\n",
    "#doge2.describe()\n",
    "col = doge2.value_counts().head(5)\n",
    "plt.figure(figsize=(6,6))\n",
    "#colors\n",
    "colors = ['#ff9999','#66b3ff','#99ff99','#ffcc99']\n",
    "#explsion\n",
    "explode = (0.05,0.05,0.05,0.05,0.05)\n",
    "plt.pie(col, colors = colors, labels=col.index, autopct='%1.1f%%', startangle=90, pctdistance=0.85, explode = explode)\n",
    "#draw circle\n",
    "centre_circle = plt.Circle((0,0),0.70,fc='white')\n",
    "fig = plt.gcf()\n",
    "fig.gca().add_artist(centre_circle)\n",
    "# Equal aspect ratio ensures that pie is drawn as a circle\n",
    "plt.axis('equal')  \n",
    "plt.tight_layout()\n",
    "plt.title('Color Distribution- DOG', fontsize=15);\n",
    "plt.show()\n"
   ]
  },
  {
   "cell_type": "markdown",
   "metadata": {},
   "source": [
    "# comparison between Dog sex upon intake and sex upon outcome "
   ]
  },
  {
   "cell_type": "markdown",
   "metadata": {},
   "source": [
    "this shows there is high chance of an animal to be adopted when it is spayed or neutered to the animal being intact"
   ]
  },
  {
   "cell_type": "code",
   "execution_count": null,
   "metadata": {
    "scrolled": true
   },
   "outputs": [],
   "source": [
    "fig_size = (12, 8)\n",
    "\n",
    "x = pd.DataFrame({'Intakes': dogs['Sex upon Intake'].value_counts(), 'Outcomes': doge['Sex upon Outcome'].value_counts()}, index = dogs['Sex upon Intake'].unique())\n",
    "ax = x.plot.bar(rot=0, figsize = fig_size)\n",
    "plt.title('comparison between sex upon intake and sex upon outcome', fontsize=18)\n",
    "plt.xlabel('Sex Type', fontsize=18)\n",
    "plt.ylabel('Count of Dogs', fontsize=18)\n",
    "plt.xticks(fontsize=16)\n",
    "plt.yticks(fontsize=16)"
   ]
  },
  {
   "cell_type": "markdown",
   "metadata": {},
   "source": [
    "# Cats"
   ]
  },
  {
   "cell_type": "code",
   "execution_count": null,
   "metadata": {},
   "outputs": [],
   "source": [
    "cats = Intakes[Intakes['Animal Type'] == 'Cat'] \n",
    "cats1= cats.Breed\n",
    "cats1.describe()\n"
   ]
  },
  {
   "cell_type": "code",
   "execution_count": null,
   "metadata": {},
   "outputs": [],
   "source": [
    "cats= Intakes[Intakes['Animal Type'] == 'Cat']\n",
    "cats.head()\n",
    "int['Intake Type'].value_counts().plot.bar(figsize = fig_size)\n",
    "plt.title('Count of cat by their Intake Type', fontsize=18)\n",
    "plt.xlabel('Intake Type', fontsize=18)\n",
    "plt.ylabel('Count of Cats', fontsize=18)\n",
    "plt.xticks(fontsize=16)\n",
    "plt.yticks(fontsize=16)"
   ]
  },
  {
   "cell_type": "code",
   "execution_count": null,
   "metadata": {},
   "outputs": [],
   "source": [
    "cats = Intakes[Intakes['Animal Type'] == 'Cat'] \n",
    "cats2= cats.Color\n",
    "cats2.describe()\n"
   ]
  },
  {
   "cell_type": "code",
   "execution_count": null,
   "metadata": {
    "scrolled": true
   },
   "outputs": [],
   "source": [
    "#TOP 10 BREEDS OF Cats THAT WAS TAKEN INTO THE CENTER\n",
    "cats['Breed'].value_counts().head(10).plot.bar(figsize = fig_size)\n",
    "plt.title('Intakes of Cats by their breeds', fontsize=18)\n",
    "plt.xlabel('Breeds', fontsize=18)\n",
    "plt.ylabel('Count of Cats', fontsize=18)\n",
    "plt.xticks(fontsize=16)\n",
    "plt.yticks(fontsize=16)"
   ]
  },
  {
   "cell_type": "code",
   "execution_count": null,
   "metadata": {},
   "outputs": [],
   "source": [
    "cats  = Intakes[Intakes['Animal Type'] == 'Cat']\n",
    "cats.head()\n",
    "cats['Name'].value_counts().head(10).plot.bar(figsize = fig_size)\n",
    "plt.title('Count of cats by their Nmae', fontsize=18)\n",
    "plt.xlabel('Name', fontsize=18)\n",
    "plt.ylabel('Count of Cats', fontsize=18)\n",
    "plt.xticks(fontsize=16)\n",
    "plt.yticks(fontsize=16)"
   ]
  },
  {
   "cell_type": "code",
   "execution_count": null,
   "metadata": {},
   "outputs": [],
   "source": [
    "stray_cats = cats[cats['Intake Type'] == 'Stray']\n",
    "\n",
    "# Top 20\n",
    "stray_cats['Breed'].value_counts().head(10).plot.bar(figsize = fig_size)\n",
    "\n",
    "\n",
    "plt.title('Count of Stray_cats by their breeds', fontsize=18)\n",
    "plt.xlabel('Breeds', fontsize=18)\n",
    "plt.ylabel('Count of Cats', fontsize=18)\n",
    "plt.xticks(fontsize=16)\n",
    "plt.yticks(fontsize=16)\n"
   ]
  },
  {
   "cell_type": "code",
   "execution_count": null,
   "metadata": {},
   "outputs": [],
   "source": [
    "owner_surrender = cats[cats['Intake Type'] == 'Owner Surrender']\n",
    "\n",
    "# Top 20\n",
    "owner_surrender['Breed'].value_counts().head(10).plot.bar(figsize = fig_size)\n",
    "plt.title('Count of cats surrendered by owners', fontsize=18)\n",
    "plt.xlabel('Breeds', fontsize=18)\n",
    "plt.ylabel('Count of Cats', fontsize=18)\n",
    "plt.xticks(fontsize=16)\n",
    "plt.yticks(fontsize=16)"
   ]
  },
  {
   "cell_type": "markdown",
   "metadata": {},
   "source": [
    "# Distribution of Cats by their Outcomes"
   ]
  },
  {
   "cell_type": "code",
   "execution_count": null,
   "metadata": {},
   "outputs": [],
   "source": [
    "cat = Outcomes[Outcomes['Animal Type'] == 'Cat'] \n",
    "cat1= cat.Breed\n",
    "cat1.describe()\n",
    "cat1.sort_values().describe()\n"
   ]
  },
  {
   "cell_type": "code",
   "execution_count": null,
   "metadata": {},
   "outputs": [],
   "source": [
    "cat = Outcomes[Outcomes['Animal Type'] == 'Cat']\n",
    "cat2=cat['Animal Type']\n",
    "cat2.describe()"
   ]
  },
  {
   "cell_type": "code",
   "execution_count": null,
   "metadata": {},
   "outputs": [],
   "source": [
    "cat = Outcomes[Outcomes['Animal Type'] == 'Cat']\n",
    "cat2= cat.Color\n",
    "cat2.value_counts().head(20)\n",
    "#int1.describe()\n",
    "col = cat2.value_counts().head(5)\n",
    "plt.figure(figsize=(6,6))\n",
    "#colors\n",
    "colors = ['#ff9999','#66b3ff','#99ff99','#ffcc99']\n",
    "#explsion\n",
    "explode = (0.05,0.05,0.05,0.05,0.05)\n",
    "plt.pie(col, colors = colors, labels=col.index, autopct='%1.1f%%', startangle=90, pctdistance=0.85, explode = explode)\n",
    "#draw circle\n",
    "centre_circle = plt.Circle((0,0),0.70,fc='white')\n",
    "fig = plt.gcf()\n",
    "fig.gca().add_artist(centre_circle)\n",
    "# Equal aspect ratio ensures that pie is drawn as a circle\n",
    "plt.axis('equal')  \n",
    "plt.tight_layout()\n",
    "plt.title('Color Distribution- CAT', fontsize=15);\n",
    "plt.show()"
   ]
  },
  {
   "cell_type": "code",
   "execution_count": null,
   "metadata": {},
   "outputs": [],
   "source": [
    "cat['Outcome Type'].value_counts()"
   ]
  },
  {
   "cell_type": "code",
   "execution_count": null,
   "metadata": {},
   "outputs": [],
   "source": [
    "fig_size = (12, 8)\n",
    "\n",
    "cat['Outcome Type'].value_counts().plot.bar(figsize=fig_size)\n",
    "plt.title('Outcome Type of Cats', fontsize=18)\n",
    "plt.xlabel('Outcome Type', fontsize=18)\n",
    "plt.ylabel('Count of Cats', fontsize=18)\n",
    "plt.xticks(fontsize=16)\n",
    "plt.yticks(fontsize=16)"
   ]
  },
  {
   "cell_type": "markdown",
   "metadata": {},
   "source": [
    "# comparison between Cat sex upon intake and sex upon outcome\n"
   ]
  },
  {
   "cell_type": "code",
   "execution_count": null,
   "metadata": {},
   "outputs": [],
   "source": [
    "fig_size = (12, 8)\n",
    "\n",
    "x = pd.DataFrame({'Intakes': cats['Sex upon Intake'].value_counts(), 'Outcomes': cat['Sex upon Outcome'].value_counts()}, index = cats['Sex upon Intake'].unique())\n",
    "ax = x.plot.bar(rot=0, figsize = fig_size)\n",
    "\n",
    "plt.title('comparison between Cat sex upon intake and sex upon outcome', fontsize=18)\n",
    "plt.xlabel('Sex upon Outcome', fontsize=18)\n",
    "plt.ylabel('Count of Cats', fontsize=18)\n",
    "plt.xticks(fontsize=16)\n",
    "plt.yticks(fontsize=16)"
   ]
  },
  {
   "cell_type": "markdown",
   "metadata": {},
   "source": [
    "# distribution of other animals"
   ]
  },
  {
   "cell_type": "code",
   "execution_count": null,
   "metadata": {},
   "outputs": [],
   "source": [
    "other   = Intakes[Intakes['Animal Type'] == 'Other']\n",
    "other.head()\n",
    "other['Intake Type'].value_counts().plot.bar(figsize = fig_size)\n",
    "plt.title('Count of others by their Intake Type', fontsize=18)\n",
    "plt.xlabel('Intake Type', fontsize=18)\n",
    "plt.ylabel('Count of others', fontsize=18)\n",
    "plt.xticks(fontsize=16)\n",
    "plt.yticks(fontsize=16)"
   ]
  },
  {
   "cell_type": "code",
   "execution_count": null,
   "metadata": {},
   "outputs": [],
   "source": [
    "other   = Outcomes[Outcomes['Animal Type'] == 'Other']\n",
    "other.head()\n",
    "other['Outcome Type'].value_counts().plot.bar(figsize = fig_size)\n",
    "plt.title('Count of others by their Outcome Type', fontsize=18)\n",
    "plt.xlabel('Outcome Type', fontsize=18)\n",
    "plt.ylabel('Count of others', fontsize=18)\n",
    "plt.xticks(fontsize=16)\n",
    "plt.yticks(fontsize=16)"
   ]
  },
  {
   "cell_type": "code",
   "execution_count": null,
   "metadata": {},
   "outputs": [],
   "source": [
    "other['Breed'].value_counts().head(20).plot.bar(figsize = fig_size)\n",
    "plt.title('Count of others by their Breed', fontsize=18)\n",
    "plt.xlabel('Breed', fontsize=18)\n",
    "plt.ylabel('Count of others', fontsize=18)\n",
    "plt.xticks(fontsize=16)\n",
    "plt.yticks(fontsize=16)"
   ]
  },
  {
   "cell_type": "code",
   "execution_count": null,
   "metadata": {},
   "outputs": [],
   "source": [
    "other['Name'].value_counts().head(20).plot.bar(figsize = fig_size)\n",
    "plt.title('Count of others by their Name', fontsize=18)\n",
    "plt.xlabel('Name', fontsize=18)\n",
    "plt.ylabel('Count of others', fontsize=18)\n",
    "plt.xticks(fontsize=16)\n",
    "plt.yticks(fontsize=16)"
   ]
  },
  {
   "cell_type": "code",
   "execution_count": null,
   "metadata": {},
   "outputs": [],
   "source": []
  },
  {
   "cell_type": "code",
   "execution_count": null,
   "metadata": {},
   "outputs": [],
   "source": []
  }
 ],
 "metadata": {
  "kernelspec": {
   "display_name": "Python 3",
   "language": "python",
   "name": "python3"
  },
  "language_info": {
   "codemirror_mode": {
    "name": "ipython",
    "version": 3
   },
   "file_extension": ".py",
   "mimetype": "text/x-python",
   "name": "python",
   "nbconvert_exporter": "python",
   "pygments_lexer": "ipython3",
   "version": "3.8.3"
  }
 },
 "nbformat": 4,
 "nbformat_minor": 4
}
